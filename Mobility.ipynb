{
 "cells": [
  {
   "cell_type": "code",
   "execution_count": null,
   "metadata": {},
   "outputs": [],
   "source": [
    "# https://data.bts.gov/Research-and-Statistics/Trips-by-Distance/w96p-f2qv\n",
    "# mobility\n",
    "#     1. Extract data from https://data.bts.gov/Research-and-Statistics/Trips-by-Distance/w96p-f2qv using API\n",
    "#     2. Create a Dataframe with columns we will need alone - \n",
    "#         Date,\n",
    "#         State Postal Code,\n",
    "#         County Name,\n",
    "#         Population Staying at Home,\n",
    "#         Population Not Staying at Home\n",
    "#     2. Extract data from https://raw.githubusercontent.com/nytimes/covid-19-data/master/us-counties.csv\n",
    "#     3. Create a dataframe with columns we will need alone - \n",
    "#         Date,\n",
    "#         State,\n",
    "#         County,\n",
    "#         Cases,\n",
    "#         Deaths\n",
    "#     4. Merge the two Dataframes using Date, State and County names to have the following columns in resulting Dataframe\n",
    "#         Date,\n",
    "#         State,\n",
    "#         County,\n",
    "#         Population Staying at Home,\n",
    "#         Population Not Staying at Home,\n",
    "#         Cases,\n",
    "#         Deaths\n",
    "#     5. Scatter Plot and check correlation between covid cases and population staying at home\n",
    "#     6. Map with the data"
   ]
  },
  {
   "cell_type": "code",
   "execution_count": 5,
   "metadata": {},
   "outputs": [],
   "source": [
    "# Import dependencies\n",
    "import pandas as pd\n",
    "import matplotlib.pyplot as plt\n",
    "import json\n",
    "import os\n",
    "from sodapy import Socrata\n",
    "from config import my_app_token, key_id, key_secret"
   ]
  },
  {
   "cell_type": "code",
   "execution_count": null,
   "metadata": {},
   "outputs": [],
   "source": [
    "# import data file csv path\n",
    "mobility_data_url = os.path.join(\"Resources\", \"us-counties.csv\")\n",
    "\n",
    "# mapping lets you format an entire DataFrame - DO we need this? data seems formated\n",
    "# file = \"resources/us-counties.csv\"\n",
    "# file_df = pd.read_csv(file)\n",
    "# file_df.head()"
   ]
  }
 ],
 "metadata": {
  "kernelspec": {
   "display_name": "Python [conda env:PythonData] *",
   "language": "python",
   "name": "conda-env-PythonData-py"
  },
  "language_info": {
   "codemirror_mode": {
    "name": "ipython",
    "version": 3
   },
   "file_extension": ".py",
   "mimetype": "text/x-python",
   "name": "python",
   "nbconvert_exporter": "python",
   "pygments_lexer": "ipython3",
   "version": "3.6.10"
  }
 },
 "nbformat": 4,
 "nbformat_minor": 4
}
