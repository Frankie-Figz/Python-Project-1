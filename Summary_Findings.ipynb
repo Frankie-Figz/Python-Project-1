{
 "cells": [
  {
   "cell_type": "markdown",
   "metadata": {},
   "source": [
    "***\n",
    "# Project Title:   COVID-19 Impacts on Business and Workforce Trends \n",
    "***\n"
   ]
  },
  {
   "cell_type": "markdown",
   "metadata": {},
   "source": [
    "# Summary Findings:\n",
    "\n",
    "***\n",
    "## Question 1: Which businesses most benefited/affected by COVID?\n",
    "***\n",
    "\n",
    "*After collection and analysis, the stock data was parsed out by the top ten performing companies and the ten companies with the worst performance*. \n",
    "\n",
    "***\n",
    "## Analysis of the top ten performing companies during COVID-19:\n",
    "***\n",
    "\n",
    " *These data were analyzed across the eight months from before the pandemic to the present time. Of the top ten performing companies during the pandemic, three specialized in diagnostic tests or vaccine development, these had the highest stock price increases from March until the end of June with only the vaccine development company continuing to increase in price through October. Of the other seven companies, a gym equipment supplier, an internet retailer, a fuel alternatives company and a solar power company showed basically no increase in their stock prices in March, and thereafter, only the gym equipment supplier and internet retailer had an increase through June. However, by October, all four of these companies showed greater increases. The remaining three companies, which included one that specialized in clinical oncology development and two in biotechnology, had steady gains between March and October. It appears the success of these companies is based on urgent services provided to deal with the pandemic in terms of the development of treatments and a vaccine, and the growing change in the personal (e.g., shopping, exercise) and professional habits of people during the lock down. The data also suggest that there was increased emphasis on alternative energy sources, which might indicate the heightened economic uncertainty that was prevalent during the pandemic.*  \n",
    "***\n",
    "### See plot below of stock price percent changes for the top 10 performing businesses:"
   ]
  },
  {
   "cell_type": "markdown",
   "metadata": {},
   "source": [
    "![Top 10 Line Plot](Images/top_10_business_lineplot.png)"
   ]
  },
  {
   "cell_type": "markdown",
   "metadata": {},
   "source": [
    "***\n",
    "## Analysis of the worst performing companies during COVID-19\n",
    "***\n",
    "*On the other hand, four oil and gas companies experienced significant stock price losses during the pandemic. In addition, other companies, including those in real-estate, hospitality, transport and shipping and clinical diagnostics had large stock price decreases. The losses were experienced almost immediately (i.e., March) by all ten companies. Only one company rebounded by June but then decreased again by October.* \n",
    "***"
   ]
  },
  {
   "cell_type": "markdown",
   "metadata": {},
   "source": [
    "![Bottom 10 Line Plot](Images/bottom_10_business_lineplot.png)"
   ]
  },
  {
   "cell_type": "markdown",
   "metadata": {},
   "source": [
    "***\n",
    "# Question 1 Data Source link:\n",
    "[Data Source](https://www.kaggle.com/jacksoncrow/stock-market-dataset?select=stocks)"
   ]
  },
  {
   "cell_type": "markdown",
   "metadata": {},
   "source": []
  }
 ],
 "metadata": {
  "kernelspec": {
   "display_name": "Python [conda env:PythonData] *",
   "language": "python",
   "name": "conda-env-PythonData-py"
  },
  "language_info": {
   "codemirror_mode": {
    "name": "ipython",
    "version": 3
   },
   "file_extension": ".py",
   "mimetype": "text/x-python",
   "name": "python",
   "nbconvert_exporter": "python",
   "pygments_lexer": "ipython3",
   "version": "3.6.12"
  }
 },
 "nbformat": 4,
 "nbformat_minor": 4
}
