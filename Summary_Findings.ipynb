{
 "cells": [
  {
   "cell_type": "markdown",
   "metadata": {},
   "source": [
    "***\n",
    "# Project Title:   COVID-19 Impacts on Business and Workforce Trends \n",
    "***\n"
   ]
  },
  {
   "cell_type": "markdown",
   "metadata": {},
   "source": [
    "# Summary Findings:\n",
    "\n",
    "***\n",
    "## Which businesses were most benefited/affected by COVID?\n",
    "***\n",
    "\n",
    "*After collection and analysis, the stock data was parsed out by the top ten performing companies and the ten companies with the worst performance.* \n",
    "\n",
    "***\n",
    "## Analysis of the top ten performing companies during COVID-19:\n",
    "***\n",
    "\n",
    "*This was analyzed across the eight months from before the pandemic to the present time. Of the top ten performing companies during the pandemic, three specialized in the diagnostic test or vaccine development, these had the highest stock price increase with only the vaccine development company continuing its success through October. The other seven companies, which included some diagnostic companies as well as fuel exploration, gym equipment and internet retailers, had significant gains between March and June and continued increase through October. It appears the success of these companies is based on services provided to deal with the pandemic and the growing change in the personal and professional habits of people during the lock down.  See \"Top 10 Line Plot\" below:*\n",
    "***\n",
    "\n"
   ]
  },
  {
   "cell_type": "markdown",
   "metadata": {},
   "source": [
    "![Top 10 Line Plot](Images/top_10_business_lineplot.png)"
   ]
  },
  {
   "cell_type": "markdown",
   "metadata": {},
   "source": [
    "***\n",
    "## Analysis of the worst performing companies during COVID-19\n",
    "***\n",
    "*On the other hand, four oil and gas companies experienced significant stock price losses during the pandemic. In addition, other companies, including those in real-estate, hospitality, transport and shipping and clinical diagnostics had large stock price decreases. The losses were experienced almost immediately (i.e., March) by all ten companies. Only one company rebounded by June but then decreased again by October.* \n",
    "***"
   ]
  },
  {
   "cell_type": "markdown",
   "metadata": {},
   "source": [
    "![Bottom 10 Line Plot](Images/bottom_10_business_lineplot.png)"
   ]
  },
  {
   "cell_type": "markdown",
   "metadata": {},
   "source": []
  },
  {
   "cell_type": "markdown",
   "metadata": {},
   "source": []
  }
 ],
 "metadata": {
  "kernelspec": {
   "display_name": "Python [conda env:PythonData] *",
   "language": "python",
   "name": "conda-env-PythonData-py"
  },
  "language_info": {
   "codemirror_mode": {
    "name": "ipython",
    "version": 3
   },
   "file_extension": ".py",
   "mimetype": "text/x-python",
   "name": "python",
   "nbconvert_exporter": "python",
   "pygments_lexer": "ipython3",
   "version": "3.6.12"
  }
 },
 "nbformat": 4,
 "nbformat_minor": 4
}
