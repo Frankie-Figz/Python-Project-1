{
 "cells": [
  {
   "cell_type": "code",
   "execution_count": 1,
   "metadata": {},
   "outputs": [],
   "source": [
    "#Import dependencies\n",
    "import pandas as pd\n",
    "import os \n",
    "import json\n",
    "import time"
   ]
  },
  {
   "cell_type": "code",
   "execution_count": 2,
   "metadata": {},
   "outputs": [],
   "source": [
    "#Airlines data csv file path\n",
    "orig_file_path = os.path.join(\"Resources/jantojun2020.csv\")"
   ]
  },
  {
   "cell_type": "code",
   "execution_count": 4,
   "metadata": {},
   "outputs": [
    {
     "name": "stdout",
     "output_type": "stream",
     "text": [
      "2745847\n",
      "300001\n",
      "300000\n",
      "300000\n",
      "300000\n",
      "300000\n",
      "300000\n",
      "300000\n",
      "300000\n",
      "345846\n",
      "2745847\n"
     ]
    }
   ],
   "source": [
    "#Retrieve Airlines Data\n",
    "orig_df = pd.read_csv(orig_file_path)\n",
    "print(len(orig_df.index))\n",
    "\n",
    "split_file_df_1 = orig_df.loc[range(0,300001)]\n",
    "split_file_df_2 = orig_df.loc[range(300001,600001)]\n",
    "split_file_df_3 = orig_df.loc[range(600001,900001)]\n",
    "split_file_df_4 = orig_df.loc[range(900001,1200001)]\n",
    "split_file_df_5 = orig_df.loc[range(1200001,1500001)]\n",
    "split_file_df_6 = orig_df.loc[range(1500001,1800001)]\n",
    "split_file_df_7 = orig_df.loc[range(1800001,2100001)]\n",
    "split_file_df_8 = orig_df.loc[range(2100001,2400001)]\n",
    "split_file_df_9 = orig_df.loc[range(2400001,2745847)]\n",
    "print(len(split_file_df_1.index))\n",
    "print(len(split_file_df_2.index))\n",
    "print(len(split_file_df_3.index))\n",
    "print(len(split_file_df_4.index))\n",
    "print(len(split_file_df_5.index))\n",
    "print(len(split_file_df_6.index))\n",
    "print(len(split_file_df_7.index))\n",
    "print(len(split_file_df_8.index))\n",
    "print(len(split_file_df_9.index))\n",
    "print(len(split_file_df_1.index)\n",
    "     + len(split_file_df_2.index)\n",
    "     + len(split_file_df_3.index)\n",
    "     + len(split_file_df_4.index)\n",
    "     + len(split_file_df_5.index)\n",
    "     + len(split_file_df_6.index)\n",
    "     + len(split_file_df_7.index)\n",
    "     + len(split_file_df_8.index)\n",
    "     + len(split_file_df_9.index))\n",
    "split_file_df_1.to_csv(\"Resources/airlines_split_1.csv\")\n",
    "split_file_df_2.to_csv(\"Resources/airlines_split_2.csv\")\n",
    "split_file_df_3.to_csv(\"Resources/airlines_split_3.csv\")\n",
    "split_file_df_4.to_csv(\"Resources/airlines_split_4.csv\")\n",
    "split_file_df_5.to_csv(\"Resources/airlines_split_5.csv\")\n",
    "split_file_df_6.to_csv(\"Resources/airlines_split_6.csv\")\n",
    "split_file_df_7.to_csv(\"Resources/airlines_split_7.csv\")\n",
    "split_file_df_8.to_csv(\"Resources/airlines_split_8.csv\")\n",
    "split_file_df_9.to_csv(\"Resources/airlines_split_9.csv\")"
   ]
  },
  {
   "cell_type": "code",
   "execution_count": null,
   "metadata": {},
   "outputs": [],
   "source": []
  },
  {
   "cell_type": "code",
   "execution_count": null,
   "metadata": {},
   "outputs": [],
   "source": []
  }
 ],
 "metadata": {
  "kernelspec": {
   "display_name": "Python 3",
   "language": "python",
   "name": "python3"
  },
  "language_info": {
   "codemirror_mode": {
    "name": "ipython",
    "version": 3
   },
   "file_extension": ".py",
   "mimetype": "text/x-python",
   "name": "python",
   "nbconvert_exporter": "python",
   "pygments_lexer": "ipython3",
   "version": "3.6.10"
  }
 },
 "nbformat": 4,
 "nbformat_minor": 4
}
